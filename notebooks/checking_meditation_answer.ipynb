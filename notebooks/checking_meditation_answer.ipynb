{
 "cells": [
  {
   "cell_type": "code",
   "execution_count": 20,
   "id": "15cd06fd-a1e5-492f-9a10-240875838aa1",
   "metadata": {},
   "outputs": [],
   "source": [
    "import pandas as pd\n",
    "from pathlib import Path"
   ]
  },
  {
   "cell_type": "code",
   "execution_count": 21,
   "id": "ca37fc42-3d6d-4cf9-9451-cc2c46926b41",
   "metadata": {},
   "outputs": [
    {
     "data": {
      "text/plain": [
       "PosixPath('/home/rocabrera/Desktop/retrieval-knowledge-gpt/data/meditation/results/flan_t5_xl_questions.csv')"
      ]
     },
     "execution_count": 21,
     "metadata": {},
     "output_type": "execute_result"
    }
   ],
   "source": [
    "path = Path.cwd().parent /\"data/meditation/results/flan_t5_xl_questions.csv\"\n",
    "path"
   ]
  },
  {
   "cell_type": "code",
   "execution_count": 22,
   "id": "18ebe175-0a16-4d39-9639-932235811582",
   "metadata": {},
   "outputs": [],
   "source": [
    "df = pd.read_csv(path)"
   ]
  },
  {
   "cell_type": "code",
   "execution_count": 23,
   "id": "2ed0b962-0862-48df-b7b2-147b29d2b357",
   "metadata": {},
   "outputs": [],
   "source": [
    "def print_retrieval_vs_normal(sample):\n",
    "    \n",
    "    print(\"Question:\")\n",
    "    print(sample[\"question\"])\n",
    "    print(\"With retrieval:\")\n",
    "    print(sample[\"with_retrieval_answer\"])\n",
    "    print(\"Without retrieval:\")\n",
    "    print(sample[\"without_retrieval_answer\"])\n",
    "    print(\"#\" * 64)\n",
    "    \n"
   ]
  },
  {
   "cell_type": "code",
   "execution_count": 25,
   "id": "9d13b511-d7b7-4d2e-ac6f-68c36f9b9101",
   "metadata": {},
   "outputs": [
    {
     "name": "stdout",
     "output_type": "stream",
     "text": [
      "Question:\n",
      "What it is meditation?\n",
      "With retrieval:\n",
      "Training for the mind to help it develop the strengths and skills it needs to solve its problems\n",
      "Without retrieval:\n",
      "a state of mental calmness\n",
      "################################################################\n",
      "Question:\n",
      "How can I improve my mind?\n",
      "With retrieval:\n",
      "By focusing not on their content but on the process by which they're created\n",
      "Without retrieval:\n",
      "By reading books, listening to music, and engaging in other activities that stimulate the mind.\n",
      "################################################################\n",
      "Question:\n",
      "how can i be calmer?\n",
      "With retrieval:\n",
      "refocus your attention\n",
      "Without retrieval:\n",
      "eat a healthy diet\n",
      "################################################################\n"
     ]
    }
   ],
   "source": [
    "_= df.apply(print_retrieval_vs_normal, axis=1)"
   ]
  }
 ],
 "metadata": {
  "kernelspec": {
   "display_name": "Python 3 (ipykernel)",
   "language": "python",
   "name": "python3"
  },
  "language_info": {
   "codemirror_mode": {
    "name": "ipython",
    "version": 3
   },
   "file_extension": ".py",
   "mimetype": "text/x-python",
   "name": "python",
   "nbconvert_exporter": "python",
   "pygments_lexer": "ipython3",
   "version": "3.9.9"
  }
 },
 "nbformat": 4,
 "nbformat_minor": 5
}
