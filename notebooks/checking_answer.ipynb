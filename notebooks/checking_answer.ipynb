{
 "cells": [
  {
   "cell_type": "code",
   "execution_count": 9,
   "id": "15cd06fd-a1e5-492f-9a10-240875838aa1",
   "metadata": {},
   "outputs": [],
   "source": [
    "import pandas as pd\n",
    "from pathlib import Path"
   ]
  },
  {
   "cell_type": "code",
   "execution_count": 5,
   "id": "b3d3dc09-ffe1-4804-a4ad-7e90d3ff17a3",
   "metadata": {},
   "outputs": [
    {
     "data": {
      "text/plain": [
       "PosixPath('/home/rocabrera/Desktop/retrieval-knowledge-gpt')"
      ]
     },
     "execution_count": 5,
     "metadata": {},
     "output_type": "execute_result"
    }
   ],
   "source": []
  },
  {
   "cell_type": "code",
   "execution_count": 8,
   "id": "ca37fc42-3d6d-4cf9-9451-cc2c46926b41",
   "metadata": {},
   "outputs": [
    {
     "data": {
      "text/plain": [
       "PosixPath('/home/rocabrera/Desktop/retrieval-knowledge-gpt/data/meditation/results/flan_t5_xl_questions.csv')"
      ]
     },
     "execution_count": 8,
     "metadata": {},
     "output_type": "execute_result"
    }
   ],
   "source": [
    "path = Path.cwd().parent /\"data/meditation/results/flan_t5_xl_questions.csv\"\n",
    "path"
   ]
  },
  {
   "cell_type": "code",
   "execution_count": 10,
   "id": "18ebe175-0a16-4d39-9639-932235811582",
   "metadata": {},
   "outputs": [],
   "source": [
    "df = pd.read_csv(path)"
   ]
  },
  {
   "cell_type": "code",
   "execution_count": 14,
   "id": "2ed0b962-0862-48df-b7b2-147b29d2b357",
   "metadata": {},
   "outputs": [
    {
     "name": "stdout",
     "output_type": "stream",
     "text": [
      "context                     mind creates thought worlds for itself importa...\n",
      "source                      /home/rocabrera/Desktop/retrieval-knowledge-gp...\n",
      "question                                           How can I improve my mind?\n",
      "with_retrieval_answer       By focusing not on their content but on the pr...\n",
      "without_retrieval_answer    By reading books, listening to music, and enga...\n",
      "Name: 1, dtype: object\n"
     ]
    }
   ],
   "source": [
    "def print_retrieval_vs_normal(sample):\n",
    "    \n",
    "    print(\"Quan\")\n",
    "    print(\"With retrieval:\")\n",
    "    print(sample[\"\"])\n",
    "    print(\"\")\n",
    "    \n"
   ]
  },
  {
   "cell_type": "code",
   "execution_count": null,
   "id": "46803234-eadd-401c-8b1c-76372476bbd4",
   "metadata": {},
   "outputs": [],
   "source": [
    "sample = df.iloc[1]\n",
    "\n",
    "print_retrieval_vs_normal(sample)"
   ]
  }
 ],
 "metadata": {
  "kernelspec": {
   "display_name": "Python 3 (ipykernel)",
   "language": "python",
   "name": "python3"
  },
  "language_info": {
   "codemirror_mode": {
    "name": "ipython",
    "version": 3
   },
   "file_extension": ".py",
   "mimetype": "text/x-python",
   "name": "python",
   "nbconvert_exporter": "python",
   "pygments_lexer": "ipython3",
   "version": "3.9.9"
  }
 },
 "nbformat": 4,
 "nbformat_minor": 5
}
