{
 "cells": [
  {
   "cell_type": "code",
   "execution_count": 1,
   "id": "15cd06fd-a1e5-492f-9a10-240875838aa1",
   "metadata": {},
   "outputs": [],
   "source": [
    "from pathlib import Path\n",
    "from langchain.document_loaders import DirectoryLoader, TextLoader"
   ]
  },
  {
   "cell_type": "code",
   "execution_count": 2,
   "id": "ca37fc42-3d6d-4cf9-9451-cc2c46926b41",
   "metadata": {},
   "outputs": [
    {
     "data": {
      "text/plain": [
       "21156"
      ]
     },
     "execution_count": 2,
     "metadata": {},
     "output_type": "execute_result"
    }
   ],
   "source": [
    "path = Path.cwd().parent / \"experiments/hemophilia/datasets/abstracts\"\n",
    "\n",
    "loader = DirectoryLoader(path, glob=\"**/*.txt\", loader_cls=TextLoader)\n",
    "\n",
    "raw_documents = loader.load()\n",
    "len(raw_documents)"
   ]
  },
  {
   "cell_type": "code",
   "execution_count": 3,
   "id": "1562c2ec",
   "metadata": {},
   "outputs": [
    {
     "data": {
      "text/plain": [
       "'Endothelial factor VIII staining in renal microcirculation was performed in eight nephrotic patients associated with mesangial proliferation (MesP) and six nephrotic patients associated with focal segmental glomerulosclerosis (FSGS). The result in MesP revealed a greater staining for glomerular endothelial factor VIII (35 +/- 15%) and for postglomerular capillary endothelial factor VIII (65 +/- 21%) than that observed in FSGS, which revealed a 11 +/- 8% staining for glomerular endothelial factor VIII and 19 +/- 15% staining for postglomerular capillary endothelial factor VIII. This finding implies that there is a greater loss of endothelial cell in renal microcirculation in FSGS. Such a finding correlates with the intrarenal hemodynamics which illustrated (Futrakul, P.; Sitprija, V.; Yenrusi, S. Glomerular endothelial dysfunction determines disease progression: a hypothesis. Am. J. Nephrol. 1997, 17, 533-540.) a mild reduction in renal plasma flow (535 +/- 106 mL/min/1.73 m2, normal 600 mL/min/1.73 m2) and in peritubular capillary flow (422 +/- 80 mL/min/1.73 m2, normal 480 mL/min/1.73 m2) in MesP and (Futrakul, P. Coagulation in glomerulonephritis and nephrotic symdrome: Its therapeutic intervention. In Asian Manual of Nephrology, Takeuchi, T.; Sugino, N.; Ota, K., Eds.; SEAMIC Publication, Tokyo, 1981; pp. 89-95.) a greater reduction in renal plasma flow (108 +/- 50 mL/min/1.73 m2) and in peritubular capillary flow (87 +/- 42 mL/min/1.78 m2) in FSGS. Therefore the study has emphasized both the structural and functional defects of endothelium in renal microcirculation in particular in FSGS.'"
      ]
     },
     "execution_count": 3,
     "metadata": {},
     "output_type": "execute_result"
    }
   ],
   "source": [
    "sample = raw_documents[100]\n",
    "sample.page_content"
   ]
  }
 ],
 "metadata": {
  "kernelspec": {
   "display_name": "retrieval",
   "language": "python",
   "name": "retrieval"
  },
  "language_info": {
   "codemirror_mode": {
    "name": "ipython",
    "version": 3
   },
   "file_extension": ".py",
   "mimetype": "text/x-python",
   "name": "python",
   "nbconvert_exporter": "python",
   "pygments_lexer": "ipython3",
   "version": "3.9.15"
  }
 },
 "nbformat": 4,
 "nbformat_minor": 5
}
