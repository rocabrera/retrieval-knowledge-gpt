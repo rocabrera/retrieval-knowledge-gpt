{
 "cells": [
  {
   "cell_type": "code",
   "execution_count": 1,
   "id": "15cd06fd-a1e5-492f-9a10-240875838aa1",
   "metadata": {
    "tags": []
   },
   "outputs": [],
   "source": [
    "from pathlib import Path\n",
    "from langchain.vectorstores import Chroma\n",
    "from langchain.embeddings import OpenAIEmbeddings"
   ]
  },
  {
   "cell_type": "code",
   "execution_count": 2,
   "id": "dd41b058",
   "metadata": {},
   "outputs": [],
   "source": [
    "import os\n",
    "\n",
    "def load_env(path=\".\"):\n",
    "\n",
    "    with open(path, \"r\") as f:\n",
    "        var_envs = f.readlines()\n",
    "        for var in var_envs:\n",
    "            name, value = var.strip(\"\\n\").split(\"=\")\n",
    "            os.environ[name] = value.strip('\"')\n",
    "\n",
    "load_env(path=\"/home/rocabrera/Desktop/retrieval-knowledge-gpt/.env\")"
   ]
  },
  {
   "cell_type": "code",
   "execution_count": 3,
   "id": "ca37fc42-3d6d-4cf9-9451-cc2c46926b41",
   "metadata": {},
   "outputs": [
    {
     "name": "stderr",
     "output_type": "stream",
     "text": [
      "Using embedded DuckDB with persistence: data will be stored in: /home/rocabrera/Desktop/retrieval-knowledge-gpt/experiments/hemophilia/knowledge_bases/chroma_abstracts\n"
     ]
    }
   ],
   "source": [
    "vectordb_path = Path.cwd().parent / \"experiments/hemophilia/knowledge_bases/chroma_abstracts\"\n",
    "\n",
    "embeddings = OpenAIEmbeddings()\n",
    "vectordb = Chroma(persist_directory=str(vectordb_path), embedding_function=embeddings)"
   ]
  },
  {
   "cell_type": "code",
   "execution_count": 4,
   "id": "d89978ae",
   "metadata": {},
   "outputs": [
    {
     "data": {
      "text/plain": [
       "(Document(page_content='Gene therapy provides hope for a cure for patients with hemophilia by establishing continuous endogenous expression of factor VIII or factor IX following transfer of a functional gene copy to replace the hemophilic patient\\'s own defective gene. Hemophilia may be considered a \"low-hanging fruit\" for gene therapy because a small increment in blood factor levels (≥2% of normal) significantly improves the bleeding tendency from severe to moderate, eliminating most spontaneous bleeds. After decades of research, the first trial to provide clear evidence of efficiency after gene transfer in patients with hemophilia B using adeno-associated virus vectors was reported by the authors\\' group in 2011. This has been followed by unprecedented activity in this area, with the commencement of seven new early-phase trials involving >55 patients with hemophilia A or hemophilia B. These studies have, in large part, generated promising clinical data that lay a strong foundation for gene therapy to move forward rapidly to market authorization. This review discusses the data from the authors\\' studies and emerging results from other gene therapy trials in both hemophilia A and B.', metadata={'source': '/home/rocabrera/Desktop/retrieval-knowledge-gpt/experiments/hemophilia/datasets/abstracts/28835123.txt'}),\n",
       " 0.17245423793792725)"
      ]
     },
     "execution_count": 4,
     "metadata": {},
     "output_type": "execute_result"
    }
   ],
   "source": [
    "query = \"Is gene therapy a cure for hemophilia?\"\n",
    "docs = vectordb.similarity_search_with_score(query)\n",
    "docs[0]"
   ]
  },
  {
   "cell_type": "code",
   "execution_count": 5,
   "id": "9d83c65d",
   "metadata": {},
   "outputs": [
    {
     "data": {
      "text/plain": [
       "0.17245423793792725"
      ]
     },
     "execution_count": 5,
     "metadata": {},
     "output_type": "execute_result"
    }
   ],
   "source": [
    "document, score = docs[0]\n",
    "score"
   ]
  },
  {
   "cell_type": "code",
   "execution_count": 6,
   "id": "e8a34458",
   "metadata": {},
   "outputs": [
    {
     "data": {
      "text/plain": [
       "'Gene therapy provides hope for a cure for patients with hemophilia by establishing continuous endogenous expression of factor VIII or factor IX following transfer of a functional gene copy to replace the hemophilic patient\\'s own defective gene. Hemophilia may be considered a \"low-hanging fruit\" for gene therapy because a small increment in blood factor levels (≥2% of normal) significantly improves the bleeding tendency from severe to moderate, eliminating most spontaneous bleeds. After decades of research, the first trial to provide clear evidence of efficiency after gene transfer in patients with hemophilia B using adeno-associated virus vectors was reported by the authors\\' group in 2011. This has been followed by unprecedented activity in this area, with the commencement of seven new early-phase trials involving >55 patients with hemophilia A or hemophilia B. These studies have, in large part, generated promising clinical data that lay a strong foundation for gene therapy to move forward rapidly to market authorization. This review discusses the data from the authors\\' studies and emerging results from other gene therapy trials in both hemophilia A and B.'"
      ]
     },
     "execution_count": 6,
     "metadata": {},
     "output_type": "execute_result"
    }
   ],
   "source": [
    "document.page_content"
   ]
  },
  {
   "cell_type": "markdown",
   "id": "56ba4885",
   "metadata": {},
   "source": [
    "O documento contém os metadados utilizados, no nosso caso estamos interessados na fonte, isto é, em qual arquivo temos a maior similaridade."
   ]
  },
  {
   "cell_type": "code",
   "execution_count": 7,
   "id": "89061cd5",
   "metadata": {},
   "outputs": [
    {
     "data": {
      "text/plain": [
       "'28835123.txt'"
      ]
     },
     "execution_count": 7,
     "metadata": {},
     "output_type": "execute_result"
    }
   ],
   "source": [
    "Path(document.metadata[\"source\"]).name"
   ]
  },
  {
   "cell_type": "markdown",
   "id": "79d71ed8",
   "metadata": {},
   "source": [
    "# Referências\n",
    "\n",
    "- [Persisting Vector DB](https://python.langchain.com/en/latest/modules/indexes/vectorstores/examples/chroma.html)"
   ]
  }
 ],
 "metadata": {
  "kernelspec": {
   "display_name": "retrieval",
   "language": "python",
   "name": "retrieval"
  },
  "language_info": {
   "codemirror_mode": {
    "name": "ipython",
    "version": 3
   },
   "file_extension": ".py",
   "mimetype": "text/x-python",
   "name": "python",
   "nbconvert_exporter": "python",
   "pygments_lexer": "ipython3",
   "version": "3.9.15"
  }
 },
 "nbformat": 4,
 "nbformat_minor": 5
}
