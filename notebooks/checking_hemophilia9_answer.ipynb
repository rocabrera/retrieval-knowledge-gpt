{
 "cells": [
  {
   "cell_type": "code",
   "execution_count": 10,
   "id": "15cd06fd-a1e5-492f-9a10-240875838aa1",
   "metadata": {},
   "outputs": [],
   "source": [
    "import pandas as pd\n",
    "from pathlib import Path"
   ]
  },
  {
   "cell_type": "code",
   "execution_count": 11,
   "id": "ca37fc42-3d6d-4cf9-9451-cc2c46926b41",
   "metadata": {},
   "outputs": [
    {
     "data": {
      "text/plain": [
       "PosixPath('/home/rocabrera/Desktop/retrieval-knowledge-gpt/data/hemophilia9/results/flan_t5_xl_questions.csv')"
      ]
     },
     "execution_count": 11,
     "metadata": {},
     "output_type": "execute_result"
    }
   ],
   "source": [
    "path = Path.cwd().parent / \"data/hemophilia9/results/flan_t5_xl_questions.csv\"\n",
    "path"
   ]
  },
  {
   "cell_type": "code",
   "execution_count": 12,
   "id": "18ebe175-0a16-4d39-9639-932235811582",
   "metadata": {},
   "outputs": [],
   "source": [
    "df = pd.read_csv(path)"
   ]
  },
  {
   "cell_type": "code",
   "execution_count": 13,
   "id": "2ed0b962-0862-48df-b7b2-147b29d2b357",
   "metadata": {},
   "outputs": [],
   "source": [
    "def print_retrieval_vs_normal(sample):\n",
    "    \n",
    "    print(\"Question:\")\n",
    "    print(sample[\"question\"])\n",
    "    print(\"With retrieval:\")\n",
    "    print(sample[\"with_retrieval_answer\"])\n",
    "    print(\"Without retrieval:\")\n",
    "    print(sample[\"without_retrieval_answer\"])\n",
    "    print(\"#\" * 64)\n",
    "    \n"
   ]
  },
  {
   "cell_type": "code",
   "execution_count": 14,
   "id": "9d13b511-d7b7-4d2e-ac6f-68c36f9b9101",
   "metadata": {},
   "outputs": [
    {
     "name": "stdout",
     "output_type": "stream",
     "text": [
      "Question:\n",
      "What it is hemophilia?\n",
      "With retrieval:\n",
      "an hereditary coagulation disorder characterized by the absence, severe deficiency\n",
      "Without retrieval:\n",
      "a disease in which the body does not produce enough red blood cells\n",
      "################################################################\n",
      "Question:\n",
      "How many factors of hemophilia are there?\n",
      "With retrieval:\n",
      "3\n",
      "Without retrieval:\n",
      "There are two factors of hemophilia.\n",
      "################################################################\n",
      "Question:\n",
      "which are the treatments for hemophilia\n",
      "With retrieval:\n",
      "Long-term prophylaxis with Factor VIII or IX\n",
      "Without retrieval:\n",
      "Hemophilia treatments include bone marrow transplantation, bone marrow as\n",
      "################################################################\n"
     ]
    }
   ],
   "source": [
    "_= df.apply(print_retrieval_vs_normal, axis=1)"
   ]
  },
  {
   "cell_type": "code",
   "execution_count": null,
   "id": "82429534-c4aa-4f8d-8b52-1fa5c16989ed",
   "metadata": {},
   "outputs": [],
   "source": []
  }
 ],
 "metadata": {
  "kernelspec": {
   "display_name": "Python 3 (ipykernel)",
   "language": "python",
   "name": "python3"
  },
  "language_info": {
   "codemirror_mode": {
    "name": "ipython",
    "version": 3
   },
   "file_extension": ".py",
   "mimetype": "text/x-python",
   "name": "python",
   "nbconvert_exporter": "python",
   "pygments_lexer": "ipython3",
   "version": "3.9.9"
  }
 },
 "nbformat": 4,
 "nbformat_minor": 5
}
