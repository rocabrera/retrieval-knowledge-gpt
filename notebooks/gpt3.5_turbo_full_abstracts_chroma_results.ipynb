{
 "cells": [
  {
   "cell_type": "code",
   "execution_count": 1,
   "id": "15cd06fd-a1e5-492f-9a10-240875838aa1",
   "metadata": {},
   "outputs": [],
   "source": [
    "import pandas as pd\n",
    "from pathlib import Path"
   ]
  },
  {
   "cell_type": "code",
   "execution_count": 2,
   "id": "ca37fc42-3d6d-4cf9-9451-cc2c46926b41",
   "metadata": {},
   "outputs": [
    {
     "data": {
      "text/plain": [
       "PosixPath('/home/rocabrera/Desktop/retrieval-knowledge-gpt/experiments/hemophilia/results/gpt3.5_turbo_full_abstracts_chroma_results.csv')"
      ]
     },
     "execution_count": 2,
     "metadata": {},
     "output_type": "execute_result"
    }
   ],
   "source": [
    "path = Path.cwd().parent / \"experiments/hemophilia/results/gpt3.5_turbo_full_abstracts_chroma_results.csv\"\n",
    "path"
   ]
  },
  {
   "cell_type": "code",
   "execution_count": 3,
   "id": "18ebe175-0a16-4d39-9639-932235811582",
   "metadata": {},
   "outputs": [],
   "source": [
    "df = pd.read_csv(path)"
   ]
  },
  {
   "cell_type": "code",
   "execution_count": 4,
   "id": "00b1c628-fab1-478c-976d-465fbca87972",
   "metadata": {},
   "outputs": [
    {
     "data": {
      "text/html": [
       "<div>\n",
       "<style scoped>\n",
       "    .dataframe tbody tr th:only-of-type {\n",
       "        vertical-align: middle;\n",
       "    }\n",
       "\n",
       "    .dataframe tbody tr th {\n",
       "        vertical-align: top;\n",
       "    }\n",
       "\n",
       "    .dataframe thead th {\n",
       "        text-align: right;\n",
       "    }\n",
       "</style>\n",
       "<table border=\"1\" class=\"dataframe\">\n",
       "  <thead>\n",
       "    <tr style=\"text-align: right;\">\n",
       "      <th></th>\n",
       "      <th>context</th>\n",
       "      <th>source</th>\n",
       "      <th>question</th>\n",
       "      <th>with_retrieval_answer</th>\n",
       "      <th>without_retrieval_answer</th>\n",
       "      <th>model_name</th>\n",
       "      <th>knowledgebase_data</th>\n",
       "      <th>embedding_model</th>\n",
       "    </tr>\n",
       "  </thead>\n",
       "  <tbody>\n",
       "    <tr>\n",
       "      <th>0</th>\n",
       "      <td>Hemophilia A is clotting disorder affecting 8:...</td>\n",
       "      <td>/home/rocabrera/Desktop/retrieval-knowledge-gp...</td>\n",
       "      <td>How common is hemophilia?</td>\n",
       "      <td>Hemophilia is a rare disorder, with varying pr...</td>\n",
       "      <td>Hemophilia is a rare genetic disorder that aff...</td>\n",
       "      <td>gpt3.5_turbo</td>\n",
       "      <td>full_abstracts.txt</td>\n",
       "      <td>chroma</td>\n",
       "    </tr>\n",
       "  </tbody>\n",
       "</table>\n",
       "</div>"
      ],
      "text/plain": [
       "                                             context  \\\n",
       "0  Hemophilia A is clotting disorder affecting 8:...   \n",
       "\n",
       "                                              source  \\\n",
       "0  /home/rocabrera/Desktop/retrieval-knowledge-gp...   \n",
       "\n",
       "                    question  \\\n",
       "0  How common is hemophilia?   \n",
       "\n",
       "                               with_retrieval_answer  \\\n",
       "0  Hemophilia is a rare disorder, with varying pr...   \n",
       "\n",
       "                            without_retrieval_answer    model_name  \\\n",
       "0  Hemophilia is a rare genetic disorder that aff...  gpt3.5_turbo   \n",
       "\n",
       "   knowledgebase_data embedding_model  \n",
       "0  full_abstracts.txt          chroma  "
      ]
     },
     "execution_count": 4,
     "metadata": {},
     "output_type": "execute_result"
    }
   ],
   "source": [
    "df"
   ]
  },
  {
   "cell_type": "code",
   "execution_count": 5,
   "id": "2ed0b962-0862-48df-b7b2-147b29d2b357",
   "metadata": {},
   "outputs": [],
   "source": [
    "def print_retrieval_vs_normal(sample):\n",
    "    \n",
    "    print(\"Question:\")\n",
    "    print(sample[\"question\"])\n",
    "    print(\"With retrieval:\")\n",
    "    print(sample[\"with_retrieval_answer\"])\n",
    "    print(\"Without retrieval:\")\n",
    "    print(sample[\"without_retrieval_answer\"])\n",
    "    print(\"#\" * 64)"
   ]
  },
  {
   "cell_type": "code",
   "execution_count": 6,
   "id": "9d13b511-d7b7-4d2e-ac6f-68c36f9b9101",
   "metadata": {},
   "outputs": [
    {
     "name": "stdout",
     "output_type": "stream",
     "text": [
      "Question:\n",
      "How common is hemophilia?\n",
      "With retrieval:\n",
      "Hemophilia is a rare disorder, with varying prevalence rates reported in different studies and regions. In the United States, it affects 8 out of 100,000 males. In Korea, hemophilia A comprised 85.3% of 498 cases reviewed and analyzed. In six U.S. states, the age-adjusted prevalence of hemophilia in 1994 was 13.4 cases/100,000 males, with an estimated national population of 13,320 cases of hemophilia A and 3,640 cases of hemophilia B. In southern Tunisia, the prevalence of hemophilia was 4.4 in 100,000 population.\n",
      "Without retrieval:\n",
      "Hemophilia is a rare genetic disorder that affects mostly males. It is estimated that approximately 1 in 5,000 to 10,000 males are born with hemophilia worldwide.\n",
      "################################################################\n"
     ]
    }
   ],
   "source": [
    "_= df.apply(print_retrieval_vs_normal, axis=1)"
   ]
  },
  {
   "cell_type": "code",
   "execution_count": null,
   "id": "82429534-c4aa-4f8d-8b52-1fa5c16989ed",
   "metadata": {},
   "outputs": [],
   "source": []
  }
 ],
 "metadata": {
  "kernelspec": {
   "display_name": "Python 3 (ipykernel)",
   "language": "python",
   "name": "python3"
  },
  "language_info": {
   "codemirror_mode": {
    "name": "ipython",
    "version": 3
   },
   "file_extension": ".py",
   "mimetype": "text/x-python",
   "name": "python",
   "nbconvert_exporter": "python",
   "pygments_lexer": "ipython3",
   "version": "3.9.9"
  }
 },
 "nbformat": 4,
 "nbformat_minor": 5
}
