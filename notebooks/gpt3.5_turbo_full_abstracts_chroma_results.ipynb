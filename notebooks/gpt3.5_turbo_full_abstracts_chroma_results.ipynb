{
 "cells": [
  {
   "cell_type": "code",
   "execution_count": 24,
   "id": "15cd06fd-a1e5-492f-9a10-240875838aa1",
   "metadata": {},
   "outputs": [],
   "source": [
    "import numpy as np\n",
    "import pandas as pd\n",
    "from pathlib import Path"
   ]
  },
  {
   "cell_type": "code",
   "execution_count": 15,
   "id": "d3ca2e39",
   "metadata": {},
   "outputs": [],
   "source": [
    "paths = Path.cwd().parent.glob(\"experiments/hemophilia/results/gpt3.5_turbo*\")"
   ]
  },
  {
   "cell_type": "code",
   "execution_count": 16,
   "id": "ca37fc42-3d6d-4cf9-9451-cc2c46926b41",
   "metadata": {},
   "outputs": [],
   "source": [
    "dfs = []\n",
    "for path in paths:\n",
    "    df = pd.read_csv(path)\n",
    "    df[\"experiment\"] = path.name\n",
    "    dfs.append(df)"
   ]
  },
  {
   "cell_type": "code",
   "execution_count": 20,
   "id": "52602ca7",
   "metadata": {},
   "outputs": [],
   "source": [
    "data = pd.concat(dfs,ignore_index=True)"
   ]
  },
  {
   "cell_type": "code",
   "execution_count": 37,
   "id": "e2cd36e0-8def-476e-9e3b-504a3c008310",
   "metadata": {},
   "outputs": [],
   "source": [
    "number = 10\n",
    "sample = (\n",
    "    data.query(\"experiment=='gpt3.5_turbo_abstracts_chroma_temperature_0_max_tokens_2048_results.csv'\")\n",
    "        .iloc[number]\n",
    ")"
   ]
  },
  {
   "cell_type": "code",
   "execution_count": 39,
   "id": "a653ab5e",
   "metadata": {},
   "outputs": [
    {
     "name": "stdout",
     "output_type": "stream",
     "text": [
      "WITH RETRIEVEL\n",
      "Question:\n",
      "How is hemophilia managed?\n",
      "Hemophilia is managed through regular replacement therapy with clotting factor concentrates, avoiding activities that may cause bleeding, and promptly treating any bleeding episodes that do occur. In severe cases, prophylactic treatment may be necessary to prevent bleeding. Close monitoring and management by a healthcare team is also important.\n"
     ]
    }
   ],
   "source": [
    "print(\"WITH RETRIEVEL\")\n",
    "print(\"Question:\")\n",
    "print(sample[\"question\"])\n",
    "print(sample[\"without_retrieval_answer\"])"
   ]
  },
  {
   "cell_type": "code",
   "execution_count": 45,
   "id": "90344655",
   "metadata": {},
   "outputs": [
    {
     "name": "stdout",
     "output_type": "stream",
     "text": [
      "WITH RETRIEVEL\n",
      "Question:\n",
      "How is hemophilia managed?\n",
      "Haemophilia is managed through a network of comprehensive care including the services of haematologists, orthopaedic surgeons, rheumatologists, dental surgeons, physiotherapists, specialised nurses and counsellors. Patients with severe haemophilia receive on-demand therapy and prophylactic treatment to minimize bleeding episodes and joint bleeding. The delivery of a high-quality comprehensive service to patients with bleeding disorders depends upon defined standards and a network of haemophilia centres. In developing countries, development of local expertise results in an improved outlook and reduction in mortality. Optimal care for severe haemophilia includes accurate diagnosis, early and adequate factor replacement for bleeding episodes, and the provision of prophylaxis from an early age to prevent joint bleeding and the consequent arthropathy. The advent of clinically available recombinant factor VIII is expected soon, and there is a move towards treating all patients with high purity products.\n",
      "Check the answer in this files:\n",
      "- 1422286.txt\n",
      "- 22715320.txt\n",
      "- 16487168.txt\n",
      "- 11997958.txt\n"
     ]
    }
   ],
   "source": [
    "print(\"WITH RETRIEVEL\")\n",
    "print(\"Question:\")\n",
    "print(sample[\"question\"])\n",
    "print(sample[\"with_retrieval_answer\"])\n",
    "sources = [Path(source) for source in eval(sample[\"sources\"])]\n",
    "print(\"Check the answer in this files:\")\n",
    "for source in sources:\n",
    "    print(\"- \"+source.name)"
   ]
  }
 ],
 "metadata": {
  "kernelspec": {
   "display_name": "Python 3 (ipykernel)",
   "language": "python",
   "name": "python3"
  },
  "language_info": {
   "codemirror_mode": {
    "name": "ipython",
    "version": 3
   },
   "file_extension": ".py",
   "mimetype": "text/x-python",
   "name": "python",
   "nbconvert_exporter": "python",
   "pygments_lexer": "ipython3",
   "version": "3.9.15"
  }
 },
 "nbformat": 4,
 "nbformat_minor": 5
}
