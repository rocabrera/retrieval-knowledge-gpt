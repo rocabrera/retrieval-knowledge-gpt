{
 "cells": [
  {
   "cell_type": "code",
   "execution_count": 17,
   "id": "15cd06fd-a1e5-492f-9a10-240875838aa1",
   "metadata": {},
   "outputs": [],
   "source": [
    "import pandas as pd\n",
    "from pathlib import Path"
   ]
  },
  {
   "cell_type": "code",
   "execution_count": 18,
   "id": "ca37fc42-3d6d-4cf9-9451-cc2c46926b41",
   "metadata": {},
   "outputs": [
    {
     "data": {
      "text/plain": [
       "PosixPath('/home/rocabrera/Desktop/retrieval-knowledge-gpt/experiments/hemophilia/results/gpt3.5_turbo_full_abstracts_chroma_results.csv')"
      ]
     },
     "execution_count": 18,
     "metadata": {},
     "output_type": "execute_result"
    }
   ],
   "source": [
    "path = Path.cwd().parent / \"experiments/hemophilia/results/gpt3.5_turbo_full_abstracts_chroma_results.csv\"\n",
    "path"
   ]
  },
  {
   "cell_type": "code",
   "execution_count": 19,
   "id": "18ebe175-0a16-4d39-9639-932235811582",
   "metadata": {},
   "outputs": [],
   "source": [
    "df = pd.read_csv(path)"
   ]
  },
  {
   "cell_type": "code",
   "execution_count": 24,
   "id": "00b1c628-fab1-478c-976d-465fbca87972",
   "metadata": {},
   "outputs": [],
   "source": [
    "data = df.iloc[0]"
   ]
  },
  {
   "cell_type": "code",
   "execution_count": 26,
   "id": "856cf502-71ac-4eb4-b798-f352dae02556",
   "metadata": {},
   "outputs": [
    {
     "data": {
      "text/plain": [
       "'What is hemophilia?'"
      ]
     },
     "execution_count": 26,
     "metadata": {},
     "output_type": "execute_result"
    }
   ],
   "source": [
    "data[\"question\"]"
   ]
  },
  {
   "cell_type": "code",
   "execution_count": 28,
   "id": "af02f9e1-cfc3-42c4-86df-fe85c821d72b",
   "metadata": {},
   "outputs": [
    {
     "data": {
      "text/plain": [
       "\"Hemophilia is a genetic disorder that affects the body's ability to form blood clots, leading to excessive bleeding and bruising. It is caused by a deficiency in certain clotting factors in the blood.\""
      ]
     },
     "execution_count": 28,
     "metadata": {},
     "output_type": "execute_result"
    }
   ],
   "source": [
    "data[\"without_retrieval_answer\"]"
   ]
  },
  {
   "cell_type": "code",
   "execution_count": 29,
   "id": "7a51fd94-657c-46e7-8e80-9ebabe59c115",
   "metadata": {},
   "outputs": [
    {
     "data": {
      "text/plain": [
       "'Hemophilia is a group of bleeding disorders characterized by a deficiency of one of the factors necessary for blood coagulation, resulting in prolonged and excessive bleeding after minor trauma or sometimes even spontaneously. The most common subtypes are hemophilia A, or factor VIII deficiency, and hemophilia B, or factor IX deficiency. It is a hereditary disorder that can result in joint hemorrhage and requires a comprehensive approach coordinated by a multidisciplinary team of specialists for optimal long-term results. Hemophilia has often been called “the disease of the kings” and was first documented in ancient history and modern history by various physicians.'"
      ]
     },
     "execution_count": 29,
     "metadata": {},
     "output_type": "execute_result"
    }
   ],
   "source": [
    "data[\"with_retrieval_answer\"]"
   ]
  },
  {
   "cell_type": "code",
   "execution_count": 21,
   "id": "2ed0b962-0862-48df-b7b2-147b29d2b357",
   "metadata": {},
   "outputs": [],
   "source": [
    "def print_retrieval_vs_normal(sample):\n",
    "    \n",
    "    print(\"Question:\")\n",
    "    print(sample[\"question\"])\n",
    "    print(\"With retrieval:\")\n",
    "    print(sample[\"with_retrieval_answer\"])\n",
    "    print(\"Without retrieval:\")\n",
    "    print(sample[\"without_retrieval_answer\"])\n",
    "    print(\"#\" * 64)"
   ]
  },
  {
   "cell_type": "code",
   "execution_count": 22,
   "id": "9d13b511-d7b7-4d2e-ac6f-68c36f9b9101",
   "metadata": {},
   "outputs": [
    {
     "name": "stdout",
     "output_type": "stream",
     "text": [
      "Question:\n",
      "What is hemophilia?\n",
      "With retrieval:\n",
      "Hemophilia is a group of bleeding disorders characterized by a deficiency of one of the factors necessary for blood coagulation, resulting in prolonged and excessive bleeding after minor trauma or sometimes even spontaneously. The most common subtypes are hemophilia A, or factor VIII deficiency, and hemophilia B, or factor IX deficiency. It is a hereditary disorder that can result in joint hemorrhage and requires a comprehensive approach coordinated by a multidisciplinary team of specialists for optimal long-term results. Hemophilia has often been called “the disease of the kings” and was first documented in ancient history and modern history by various physicians.\n",
      "Without retrieval:\n",
      "Hemophilia is a genetic disorder that affects the body's ability to form blood clots, leading to excessive bleeding and bruising. It is caused by a deficiency in certain clotting factors in the blood.\n",
      "################################################################\n",
      "Question:\n",
      "What causes hemophilia?\n",
      "With retrieval:\n",
      "Hemophilia is caused by a deficiency or abnormality of coagulation factor VIII (hemophilia A) or factor IX (hemophilia B), which are X-chromosome linked mutations.\n",
      "Without retrieval:\n",
      "Hemophilia is a genetic disorder that is caused by a deficiency in clotting factors in the blood.\n",
      "################################################################\n",
      "Question:\n",
      "Is hemophilia genetic?\n",
      "With retrieval:\n",
      "Yes, hemophilia is genetic. It is an X-linked hereditary bleeding disorder caused by a lack or deficiency of clotting factor VIII or IX, which is determined by the type of pathogenic variants in the genes encoding the two factors (F8 and F9, respectively). Hemophilia is inherited in a monogenic form, but the clinical features can be influenced by other genetic factors. Genetic analysis is widely applied in inherited bleeding disorders to allow genetic counseling of affected families and help find a link between the genotype and the phenotype.\n",
      "Without retrieval:\n",
      "Hemophilia is a genetic disorder that affects the blood's ability to clot.\n",
      "################################################################\n",
      "Question:\n",
      "How is hemophilia inherited?\n",
      "With retrieval:\n",
      "Hemophilia is inherited in an X-linked manner, meaning it is passed down through the X chromosome. Only males can develop the disease, but females can carry the trait and pass it on to their offspring.\n",
      "Without retrieval:\n",
      "Hemophilia is an inherited genetic disorder that is passed down from parents to their children through the X chromosome. It primarily affects males, as they only have one X chromosome, while females have two. If a female inherits the hemophilia gene on one X chromosome, she may be a carrier of the disorder but may not experience symptoms. If a male inherits the hemophilia gene on his X chromosome, he will have the disorder.\n",
      "################################################################\n",
      "Question:\n",
      "What are the types of hemophilia?\n",
      "With retrieval:\n",
      "There are three types of hemophilia: A, B, and C, caused by the deficiency or dysfunction of factors VIII, IX, and XI, respectively.\n",
      "Without retrieval:\n",
      "There are three types of hemophilia: hemophilia A, hemophilia B, and hemophilia C.\n",
      "################################################################\n",
      "Question:\n",
      "How common is hemophilia?\n",
      "With retrieval:\n",
      "Hemophilia is a rare disorder, with varying prevalence rates reported in different studies and regions. In the United States, it affects 8 out of 100,000 males. In Korea, hemophilia A comprised 85.3% of 498 cases reviewed and analyzed. In six U.S. states, the age-adjusted prevalence of hemophilia in 1994 was 13.4 cases/100,000 males, with an estimated national population of 13,320 cases of hemophilia A and 3,640 cases of hemophilia B. In southern Tunisia, the prevalence of hemophilia was 4.4 in 100,000 population.\n",
      "Without retrieval:\n",
      "Hemophilia is a rare genetic disorder that affects mostly males. It is estimated that approximately 1 in 5,000 to 10,000 males are born with hemophilia worldwide.\n",
      "################################################################\n",
      "Question:\n",
      "What are the symptoms of hemophilia?\n",
      "With retrieval:\n",
      "The most characteristic symptoms of severe forms of hemophilia A are joint and muscle bleeds, while easy bruising, hemarthrosis, prolonged bleeding after trauma, and soft tissue hematoma are also common symptoms. Intracranial hemorrhage and spinal epidural hematomas are rare but serious complications.\n",
      "Without retrieval:\n",
      "I'm sorry, I cannot provide an answer without the necessary context. Please provide the relevant context.\n",
      "################################################################\n",
      "Question:\n",
      "How is hemophilia diagnosed?\n",
      "With retrieval:\n",
      "Hemophilia is diagnosed through clinical assessment and laboratory testing, specifically the determination of a deficiency of factor FVIII or FIX. The severity of hemophilia is also characterized by laboratory test results. Incorrect diagnosis or identification of factor inhibitors may lead to inappropriate management and adverse outcomes. Best practice should be adopted by all involved, and clinicians should assess laboratory test results in the context of their patient's clinical history and follow up any potential errors. For prenatal diagnosis of hemophilia A, genetic tests are performed using chorionic villi sampling at 10 weeks' of gestation.\n",
      "Without retrieval:\n",
      "Hemophilia is typically diagnosed through blood tests that measure the levels of clotting factors in the blood. Family history and physical exams may also be used to aid in diagnosis.\n",
      "################################################################\n",
      "Question:\n",
      "Is hemophilia curable?\n",
      "With retrieval:\n",
      "Gene therapy and genome editing show promise for a definite clinical cure for hemophilia, but more long-term efficacy and safety data are awaited. Clinical trial results are showing promise for \"curative\" correction of the bleeding phenotype.\n",
      "Without retrieval:\n",
      "Hemophilia is not curable, but it can be managed with proper treatment and care.\n",
      "################################################################\n",
      "Question:\n",
      "What is the treatment for hemophilia?\n",
      "With retrieval:\n",
      "The treatment for hemophilia involves the administration of coagulation factor concentrates, either through intravenous injection or subcutaneous application, to prevent bleeding and joint damage. New treatment options include extended half-life factor concentrates, non-factor products, and gene therapy, which are still in clinical studies. These new therapies are expected to significantly improve the quality of life for patients with hemophilia.\n",
      "Without retrieval:\n",
      "Hemophilia is a genetic disorder that affects the blood's ability to clot. It is treated with replacement therapy, where missing clotting factors are infused into the bloodstream. This can be done on a regular basis to prevent bleeding episodes or on an as-needed basis to treat bleeding episodes when they occur. In severe cases, gene therapy may also be an option. \n",
      "\n",
      "As an AI language model, I don't have personal beliefs or opinions, but I can provide you with factual information.\n",
      "################################################################\n",
      "Question:\n",
      "How is hemophilia managed?\n",
      "With retrieval:\n",
      "Haemophilia is managed through a network of comprehensive care, including the services of haematologists, orthopaedic surgeons, rheumatologists, dental surgeons, physiotherapists, specialised nurses and counsellors. Patients with severe haemophilia may receive on-demand therapy and prophylactic treatment, and recent advances in the use of bypassing agents and immune tolerance therapy have enabled them to aggressively manage their disease while maintaining their independence. Optimal care for severe haemophilia includes accurate diagnosis, early and adequate factor replacement for bleeding episodes and the provision of prophylaxis from an early age to prevent joint bleeding and the consequent arthropathy. The delivery of a high quality comprehensive service to patients with bleeding disorders depends upon defined standards and a network of haemophilia centres in the UK with similar models in other countries. In developing countries, development of local expertise results in an improved outlook and reduction in mortality.\n",
      "Without retrieval:\n",
      "Hemophilia is managed through regular replacement therapy with clotting factor concentrates, avoiding activities that may cause bleeding, and promptly treating any bleeding episodes that do occur. In severe cases, prophylactic treatment may be necessary to prevent bleeding. Close monitoring and management by a healthcare team is also important.\n",
      "################################################################\n",
      "Question:\n",
      "Can hemophilia be prevented?\n",
      "With retrieval:\n",
      "No, hemophilia cannot be prevented as it is a genetic disorder. However, prophylactic treatment with clotting-factor concentrates can prevent hemophilic arthropathy and is considered the gold standard of care for hemophilia A and B in most countries with adequate resources. Gene therapy is also being developed as a potential cure for hemophilia.\n",
      "Without retrieval:\n",
      "Hemophilia cannot be prevented, but it can be managed with proper treatment and care.\n",
      "################################################################\n",
      "Question:\n",
      "Can women have hemophilia?\n",
      "With retrieval:\n",
      "Yes, women can have hemophilia. Approximately 16% of patients with mild hemophilia A and almost one-quarter of those with mild hemophilia B seen in U.S. hemophilia treatment centers are women and girls. However, severe and moderate hemophilia are rare in females. Females with hemophilia may go undiagnosed for years because the most common symptoms also occur in females without hemophilia. Prophylactic factor replacement therapy is recommended in females with hemophilia, particularly those with joint disease or gynecologic complications. Further study is needed to increase awareness of hemophilia in females and reassess current guidelines for their management and monitoring.\n",
      "Without retrieval:\n",
      "Yes, women can have hemophilia, although it is much rarer than in men. Hemophilia is a genetic disorder that affects the blood's ability to clot, and it is caused by a deficiency in certain clotting factors. Women have two X chromosomes, and if one of them carries the hemophilia gene, they may still have a functioning clotting factor on the other X chromosome. However, if both X chromosomes carry the hemophilia gene, women can develop hemophilia.\n",
      "################################################################\n",
      "Question:\n",
      "How is hemophilia different from other bleeding disorders?\n",
      "With retrieval:\n",
      "Hemophilia is a bleeding disorder caused by deficiency or dysfunction of factors VIII, IX, or XI, and is recognized as the most common and severe hemorrhagic disorder. It can be hereditary or acquired, and is traditionally considered clinically indistinguishable from hemophilia B, but differences in bleeding frequency, clinical scores, use of prophylaxis, and need for orthopedic surgery have been reported. Hemophilia has the most efficacious and safe treatment among the most prevalent monogenic disorders, and personalized treatment strategies are essential to ensure optimal outcomes.\n",
      "Without retrieval:\n",
      "Hemophilia is a genetic bleeding disorder that affects the blood's ability to clot. It is different from other bleeding disorders because it specifically affects the clotting factors in the blood, whereas other bleeding disorders may be caused by platelet deficiencies or blood vessel abnormalities.\n",
      "################################################################\n",
      "Question:\n",
      "What are the complications of hemophilia?\n",
      "With retrieval:\n",
      "The most common complication associated with hemophilia is bleeding into joints, predominantly the knees, ankles, and elbows, which may lead to destruction or osteoarthritis of the specific joint. Various degrees of disability may follow these initial or recurrent hemorrhages. Other complications may include co-morbidities such as hepatitis C or HIV, inhibitors against factor VIII, hypertension, renal abnormalities, overweight, diabetes mellitus, and hypercholesterolemia. Hemophilia can also lead to hemarthrosis, which is the major cause of serious bleeding events, disability, and reduced quality of life in patients with factor VIII or factor IX deficiency.\n",
      "Without retrieval:\n",
      "Hemophilia is a genetic disorder that affects the blood's ability to clot properly. This can lead to excessive bleeding and bruising, especially after injury or surgery. Complications of hemophilia can include joint damage and chronic pain from bleeding into joints, as well as internal bleeding in vital organs such as the brain. Without proper treatment and management, hemophilia can be life-threatening.\n",
      "################################################################\n",
      "Question:\n",
      "How does hemophilia affect daily life?\n",
      "With retrieval:\n",
      "Hemophilia can have a negative impact on daily life, including participation in recreational activities, education, and employment. It can cause bleeding and pain, leading to difficulties in attending school or work, and may require alterations to treatment regimens to accommodate planned activities. Hemophilia can also place a burden on physical and psychological well-being, and may require costly and time-consuming methods of treatment and management. However, with optimal care and support, disabilities can be minimized, and patients can lead productive and dignified lives. Continuous monitoring of health-related quality of life is important to identify increased needs of care in the aging hemophilia population.\n",
      "Without retrieval:\n",
      "Hemophilia is a genetic disorder that affects the body's ability to clot blood. This means that people with hemophilia are at risk of bleeding for longer periods of time, and may experience spontaneous bleeding in their joints and muscles. This can lead to pain, swelling, and limited mobility. Hemophilia can also require frequent medical treatment, including infusions of clotting factor to prevent or stop bleeding. Overall, hemophilia can have a significant impact on daily life, including physical limitations, medical management, and emotional stress.\n",
      "################################################################\n",
      "Question:\n",
      "Can people with hemophilia participate in sports?\n",
      "With retrieval:\n",
      "Yes, people with hemophilia can participate in sports. There are guidelines and recommendations for safe participation, and studies have shown that participation in sports can improve the quality of life and reduce the risk of bleeding in individuals with hemophilia. However, the specific sports and level of participation may vary depending on the severity of the condition and individual circumstances.\n",
      "Without retrieval:\n",
      "People with hemophilia can participate in sports, but they need to take precautions to avoid injury and bleeding. They may need to wear protective gear and avoid contact sports or activities with a high risk of injury. It is important for them to work closely with their healthcare provider to develop a safe and appropriate exercise plan.\n",
      "################################################################\n",
      "Question:\n",
      "How is hemophilia treated in children?\n",
      "With retrieval:\n",
      "Hemophilia is treated in children through prophylactic treatment, which is started at an early age to prevent joint bleeds. The treatment is individualized based on patient pharmacokinetics and product recoveries. Both plasma-derived and recombinant products are appropriate depending on patient and family preferences. In Norway, boys with hemophilia usually begin treatment after their first bleeding episode, while in Sweden, prophylactic treatment is started when the boys are 1-2 years of age. Treatment involves administering factor concentrate, and parents usually start treating their children at home when they are around 4 years old. In cases of joint bleeding, cryoprecipitate is transfused to obtain a hemostatic level of factor VIII, and physical therapy is instituted. Prophylactic treatment from an early age can prevent haemophilic arthropathy and enable patients to lead normal lives.\n",
      "Without retrieval:\n",
      "Hemophilia is typically treated with replacement therapy, where missing clotting factors are infused into the child's bloodstream. This can be done on a regular basis to prevent bleeding episodes or on an as-needed basis to treat bleeding when it occurs. In some cases, medication may also be prescribed to help control bleeding. It is important for children with hemophilia to receive regular medical care and to avoid activities that may increase their risk of injury or bleeding.\n",
      "################################################################\n",
      "Question:\n",
      "What is the life expectancy of someone with hemophilia?\n",
      "With retrieval:\n",
      "The life expectancy of someone with hemophilia varies depending on the severity of the condition and other factors such as HIV infection. In the studies mentioned, median life expectancy ranged from 49 to 75 years, with severe hemophilia having a lower life expectancy than moderate/mild hemophilia. However, it is important to note that these studies were conducted over different time periods and in different countries, so the life expectancy of someone with hemophilia may vary depending on the specific circumstances.\n",
      "Without retrieval:\n",
      "I'm sorry, there is no context provided to answer this question.\n",
      "################################################################\n",
      "Question:\n",
      "How does hemophilia affect pregnancy?\n",
      "With retrieval:\n",
      "Hemophilia can affect pregnancy in various ways, including the risk of bleeding during delivery and the possibility of passing the condition onto the child. Hemophilia carriers may also face specific psychosocial challenges related to pregnancy. However, with proper medical care and support, women with hemophilia can still have successful pregnancies and deliveries. Antenatal tests, such as chorionic villous sampling, can help determine the sex of the fetus and whether a male infant is affected with hemophilia. Genetic counseling and specialized carrier clinics can also be valuable resources for hemophilia carriers during pregnancy.\n",
      "Without retrieval:\n",
      "I'm sorry, I cannot provide an answer without additional context. Please provide more information about the specific type of hemophilia and any other relevant details.\n",
      "################################################################\n",
      "Question:\n",
      "Can hemophilia be passed down through generations?\n",
      "With retrieval:\n",
      "Yes, hemophilia can be passed down through generations as it is an X-linked inherited rare bleeding disorder affecting mainly men. Carriers of hemophilia have a 50% chance of giving birth to a hemophilic son.\n",
      "Without retrieval:\n",
      "Hemophilia is a genetic disorder that is passed down through generations.\n",
      "################################################################\n",
      "Question:\n",
      "What is a clotting factor?\n",
      "With retrieval:\n",
      "A clotting factor is a protein in the blood that plays a role in the process of blood clotting.\n",
      "Without retrieval:\n",
      "A clotting factor is a substance in the blood that helps to stop bleeding by forming a clot.\n",
      "################################################################\n",
      "Question:\n",
      "How is clotting factor replacement therapy administered?\n",
      "With retrieval:\n",
      "Clotting factor replacement therapy is administered through intravenous infusions, typically requiring twice to thrice weekly treatments.\n",
      "Without retrieval:\n",
      "Clotting factor replacement therapy can be administered through intravenous infusion or injection.\n",
      "################################################################\n",
      "Question:\n",
      "What are the risks associated with clotting factor replacement therapy?\n",
      "With retrieval:\n",
      "The risks associated with clotting factor replacement therapy include the potential for transmission of emerging infectious agents through blood and blood products, as well as the development of inhibitors as a frequent complication. However, severe and mild adverse events following infusion of coagulation factor concentrates are relatively rare in patients with inherited coagulation disorders, with the most common events being of an allergic type. The development of improved viral attenuation processes and genetically engineered FVIII products may eliminate some of the complications of therapy, but careful postmarketing surveillance systems are still necessary.\n",
      "Without retrieval:\n",
      "Clotting factor replacement therapy is a treatment for people with bleeding disorders such as hemophilia. It involves infusing the missing clotting factor into the patient's bloodstream to help their blood clot properly. However, there are some risks associated with this therapy, including the possibility of developing antibodies to the clotting factor, which can make the treatment less effective over time. Other potential risks include allergic reactions, infections, and blood clots. It is important for patients receiving clotting factor replacement therapy to be closely monitored by their healthcare provider to minimize these risks.\n",
      "################################################################\n",
      "Question:\n",
      "What is an inhibitor in hemophilia?\n",
      "With retrieval:\n",
      "An inhibitor in hemophilia is a neutralizing anti-drug antibody that is developed in response to infused coagulation factor, which disrupts normal hemostasis and renders standard hemostatic therapy ineffective. It significantly worsens morbidity and quality of life in hemophilia patients.\n",
      "Without retrieval:\n",
      "An inhibitor in hemophilia is an antibody that neutralizes the clotting factor replacement therapy, making it less effective in treating bleeding episodes.\n",
      "################################################################\n",
      "Question:\n",
      "How is an inhibitor treated?\n",
      "With retrieval:\n",
      "An inhibitor can be treated with immune tolerance induction (ITI), bypassing agents, or alternative non-ITI approaches. Cyclophosphamide and factor VIII can also be used simultaneously to produce a good clinical response with disappearance of the inhibitor. Cyclosporin has also been reported to be effective in treating factor VIII inhibitors and deserves further investigation. ITI is the preferred management strategy for treating patients with inhibitors, but some patients are difficult to tolerise and/or are unresponsive to ITI. A decision-analytic model suggests that lifetime costs of treating patients with inhibitors are lower for ITI compared to on-demand or prophylaxis treatment with bypassing agents.\n",
      "Without retrieval:\n",
      "I'm sorry, I cannot answer the question without additional context. What type of inhibitor are you referring to?\n",
      "################################################################\n",
      "Question:\n",
      "Can inhibitors be prevented?\n",
      "With retrieval:\n",
      "Efforts are being made to prevent inhibitors in patients with haemophilia A, but current strategies have given conflicting results and registry data suggest an increasing problem. However, compounds with a long history of use in inflammatory conditions have demonstrated efficacy in preventing antibodies to protein therapeutics both in animal models and in humans, which may offer an option for reducing inhibitor formation in previously untreated patients. Additionally, the development of pre-clinical assays to assess products and processes for neoantigen formation should allow the prevention of inhibitor outbreaks. Further research is needed to standardize protocols and observe present cohorts to better understand the mechanisms involved in inhibitor formation and how to prevent them.\n",
      "Without retrieval:\n",
      "I'm sorry, I cannot answer the question without additional context. Inhibitors can refer to various things in different fields, such as enzymes, drugs, or antibodies. Please provide more information.\n",
      "################################################################\n"
     ]
    }
   ],
   "source": [
    "_= df.apply(print_retrieval_vs_normal, axis=1)"
   ]
  },
  {
   "cell_type": "code",
   "execution_count": null,
   "id": "82429534-c4aa-4f8d-8b52-1fa5c16989ed",
   "metadata": {},
   "outputs": [],
   "source": []
  }
 ],
 "metadata": {
  "kernelspec": {
   "display_name": "Python 3 (ipykernel)",
   "language": "python",
   "name": "python3"
  },
  "language_info": {
   "codemirror_mode": {
    "name": "ipython",
    "version": 3
   },
   "file_extension": ".py",
   "mimetype": "text/x-python",
   "name": "python",
   "nbconvert_exporter": "python",
   "pygments_lexer": "ipython3",
   "version": "3.9.9"
  }
 },
 "nbformat": 4,
 "nbformat_minor": 5
}
